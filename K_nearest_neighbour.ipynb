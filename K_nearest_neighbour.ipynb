{
  "nbformat": 4,
  "nbformat_minor": 0,
  "metadata": {
    "colab": {
      "name": "K_nearest_neighbour.ipynb",
      "provenance": [],
      "authorship_tag": "ABX9TyOe937R/Xwi9f7G9tifVSxC",
      "include_colab_link": true
    },
    "kernelspec": {
      "name": "python3",
      "display_name": "Python 3"
    }
  },
  "cells": [
    {
      "cell_type": "markdown",
      "metadata": {
        "id": "view-in-github",
        "colab_type": "text"
      },
      "source": [
        "<a href=\"https://colab.research.google.com/github/majdew/k_nearest_neighbor/blob/main/K_nearest_neighbour.ipynb\" target=\"_parent\"><img src=\"https://colab.research.google.com/assets/colab-badge.svg\" alt=\"Open In Colab\"/></a>"
      ]
    },
    {
      "cell_type": "markdown",
      "metadata": {
        "id": "lCf_FJbgvRW9"
      },
      "source": [
        "For a small dataset (use anything) with 10 samples, 2-d space, and two classes (0,1)\r\n",
        "Read a sample input (x,y) from the user\r\n",
        "Read k from the user\r\n",
        "Find and print the k nearest neighbor."
      ]
    },
    {
      "cell_type": "code",
      "metadata": {
        "colab": {
          "base_uri": "https://localhost:8080/",
          "height": 219
        },
        "id": "B2lCRr4JuNXF",
        "outputId": "be516d15-8507-4291-f7a4-8e8c19fece4b"
      },
      "source": [
        "\r\n",
        "from sklearn.datasets import make_classification\r\n",
        "import matplotlib.pyplot as plt\r\n",
        "import sys\r\n",
        "\r\n",
        "\r\n",
        "# make_classification is a function that generates random data\r\n",
        "# generate 2d classification dataset with 10 samples and 2 classes\r\n",
        "features , classes = make_classification(n_samples=10, n_classes=2,\r\n",
        "                                         n_features=2, n_informative=2, n_redundant=0)\r\n",
        "\r\n",
        "# calculate train data size \r\n",
        "m = len(features)\r\n",
        "\r\n",
        "# plot training data for testing only\r\n",
        "plt.figure(figsize=(8, 8))\r\n",
        "plt.subplots_adjust(bottom=.05, top=.9, left=.05, right=.95)\r\n",
        "plt.subplot(321)\r\n",
        "plt.title(\"Train data plot\", fontsize='small')\r\n",
        "plt.scatter(features[:, 0], features[:, 1], marker='o', c=classes,\r\n",
        "            s=25, edgecolor='k')\r\n",
        "plt.xlabel(\"X axis label\")\r\n",
        "plt.ylabel(\"Y axis label\")\r\n",
        "plt.show()"
      ],
      "execution_count": 2,
      "outputs": [
        {
          "output_type": "display_data",
          "data": {
            "image/png": "[encoded data removed]",
            "text/plain": [
              "<Figure size 576x576 with 1 Axes>"
            ]
          },
          "metadata": {
            "tags": [],
            "needs_background": "light"
          }
        }
      ]
    },
    {
      "cell_type": "code",
      "metadata": {
        "colab": {
          "base_uri": "https://localhost:8080/"
        },
        "id": "cEkVMM3sw9AO",
        "outputId": "4b486c65-3e41-4c28-dac3-f90ad30d4d94"
      },
      "source": [
        "# ask the user to enter point to predict it's class 0 or 1\r\n",
        "X= int(input(\"Enter x-coordinate for  the point: \" ))\r\n",
        "Y= int(input(\"Enter y-coordinate for  the point: \" ))\r\n",
        "\r\n",
        "# ask the user to enter k value\r\n",
        "K= int(input(\"Enter K value: \" ))\r\n",
        "\r\n",
        "# validate k value (k <= samples size)\r\n",
        "if K > m :\r\n",
        "    sys.exit(\"Invalid k value \")"
      ],
      "execution_count": 3,
      "outputs": [
        {
          "output_type": "stream",
          "text": [
            "Enter x-coordinate for  the point: 1\n",
            "Enter y-coordinate for  the point: 2\n",
            "Enter K value: 3\n"
          ],
          "name": "stdout"
        }
      ]
    },
    {
      "cell_type": "code",
      "metadata": {
        "id": "bzcxRaloxB8P"
      },
      "source": [
        "# initiate list that contains distances\r\n",
        "distances = []\r\n",
        "\r\n",
        "# calculate the distances between user point and the training data points\r\n",
        "for i in range(m):\r\n",
        "    distance = (((features[i][0] - X)**2) + ((features[i][1] - Y)**2))**0.5\r\n",
        "    distances.append(distance)\r\n",
        "    \r\n",
        "\r\n",
        "# create temporarily list to hold sorted distances\r\n",
        "temp_distances = []\r\n",
        "for i in range(m):\r\n",
        "    temp_distances.append(distances[i])\r\n",
        "    \r\n",
        "# sort distances in ascending order\r\n",
        "sorted_distances = temp_distances.sort()\r\n",
        "\r\n",
        "# take K elements from the distances list (K nearest points)\r\n",
        "k_nearest_neighbours = temp_distances[:K]\r\n",
        "\r\n",
        "\r\n",
        "# take the indices of the k_nearest_neighbours\r\n",
        "indicies= []                \r\n",
        "for i in range(K):\r\n",
        "    indicies.append(distances.index(k_nearest_neighbours[i]))\r\n",
        "    \r\n",
        "# find the classes for the nearest neighbours\r\n",
        "nearest_classes = []\r\n",
        "for i in range(K):\r\n",
        "    nearest_classes.append(classes[indicies[i]])"
      ],
      "execution_count": 5,
      "outputs": []
    },
    {
      "cell_type": "code",
      "metadata": {
        "colab": {
          "base_uri": "https://localhost:8080/"
        },
        "id": "wAxQ_WGmxL74",
        "outputId": "8a1215a8-3b34-405a-d7c8-2454f71e3299"
      },
      "source": [
        "# determine if number of classes 1 > number of classes 0 in the nearest classes\r\n",
        "# if number of 1's > 0's  user point belongs to class 1 and vice versa \r\n",
        "if nearest_classes.count(1)> nearest_classes.count(0):\r\n",
        "    print(\"Your point belongs to class 1\")\r\n",
        "elif  nearest_classes.count(1)< nearest_classes.count(0) :\r\n",
        "    print(\"Your point belongs to class 0\")\r\n",
        "else:\r\n",
        "    print(\"I can't decide for which class this point belongs\")\r\n",
        "    \r\n",
        "\r\n",
        "# print the k nearest neighbours for the user point\r\n",
        "print(\"K-nearest neighbours for your point:\")\r\n",
        "for i in range(K):\r\n",
        "    print(features[indicies[i]],\" Which belongs to class \", classes[indicies[i]])"
      ],
      "execution_count": 6,
      "outputs": [
        {
          "output_type": "stream",
          "text": [
            "Your point belongs to class 1\n",
            "K-nearest neighbours for your point:\n",
            "[0.88311851 0.95334377]  Which belongs to class  1\n",
            "[1.19620827 0.57404867]  Which belongs to class  1\n",
            "[-0.52604209  1.24702215]  Which belongs to class  0\n"
          ],
          "name": "stdout"
        }
      ]
    }
  ]
}